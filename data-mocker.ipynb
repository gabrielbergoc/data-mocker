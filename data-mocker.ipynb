{
 "cells": [
  {
   "cell_type": "code",
   "execution_count": 4,
   "metadata": {},
   "outputs": [],
   "source": [
    "from faker import Faker\n",
    "\n",
    "fake = Faker()"
   ]
  },
  {
   "cell_type": "code",
   "execution_count": 7,
   "metadata": {},
   "outputs": [
    {
     "data": {
      "text/plain": [
       "'cff0-b6fa-991a-58a0'"
      ]
     },
     "execution_count": 7,
     "metadata": {},
     "output_type": "execute_result"
    }
   ],
   "source": [
    "fake.hexify('^^^^-^^^^-^^^^-^^^^')"
   ]
  },
  {
   "cell_type": "code",
   "execution_count": 8,
   "metadata": {},
   "outputs": [],
   "source": [
    "columns = {\n",
    "    \"id\": \"hexify\",\n",
    "    \"userName\": \"name\",\n",
    "    \"firstName\": \"first_name\",\n",
    "    \"lastName\": \"last_name\",\n",
    "    \"email\": \"ascii_email\",\n",
    "    \"technicalUser\": \"boolean\",\n",
    "    \"active\": \"boolean\",\n",
    "    \"roles\": [],\n",
    "}"
   ]
  },
  {
   "cell_type": "code",
   "execution_count": 12,
   "metadata": {},
   "outputs": [
    {
     "data": {
      "text/plain": [
       "'[{\"id\": \"59e4\", \"userName\": \"Patrick Bender\", \"firstName\": \"Bryce\", \"lastName\": \"Robertson\", \"email\": \"hmartin@gmail.com\", \"technicalUser\": true, \"active\": true, \"roles\": []}, {\"id\": \"f915\", \"userName\": \"Denise Boyd\", \"firstName\": \"Mary\", \"lastName\": \"Delgado\", \"email\": \"jennifer51@ellis.com\", \"technicalUser\": true, \"active\": true, \"roles\": []}, {\"id\": \"e24f\", \"userName\": \"Paige Flores\", \"firstName\": \"Crystal\", \"lastName\": \"Collins\", \"email\": \"abigailkelly@yahoo.com\", \"technicalUser\": true, \"active\": false, \"roles\": []}, {\"id\": \"29fa\", \"userName\": \"Travis Miller\", \"firstName\": \"Paula\", \"lastName\": \"Benitez\", \"email\": \"elizabeth08@yahoo.com\", \"technicalUser\": true, \"active\": false, \"roles\": []}, {\"id\": \"c02b\", \"userName\": \"Elizabeth Stephenson\", \"firstName\": \"Kristy\", \"lastName\": \"Smith\", \"email\": \"williamstraci@hotmail.com\", \"technicalUser\": false, \"active\": true, \"roles\": []}, {\"id\": \"a73b\", \"userName\": \"Albert Parker\", \"firstName\": \"Tiffany\", \"lastName\": \"Henry\", \"email\": \"ymoore@gmail.com\", \"technicalUser\": false, \"active\": false, \"roles\": []}, {\"id\": \"039e\", \"userName\": \"Tamara James\", \"firstName\": \"Franklin\", \"lastName\": \"Bolton\", \"email\": \"angelaford@gmail.com\", \"technicalUser\": false, \"active\": true, \"roles\": []}, {\"id\": \"c587\", \"userName\": \"Tina Baker\", \"firstName\": \"Christopher\", \"lastName\": \"Edwards\", \"email\": \"david63@taylor.info\", \"technicalUser\": true, \"active\": true, \"roles\": []}, {\"id\": \"e035\", \"userName\": \"Joseph Wyatt\", \"firstName\": \"Susan\", \"lastName\": \"Bradford\", \"email\": \"brianperkins@yahoo.com\", \"technicalUser\": true, \"active\": false, \"roles\": []}, {\"id\": \"fe50\", \"userName\": \"Lisa Miller\", \"firstName\": \"Kim\", \"lastName\": \"Gutierrez\", \"email\": \"margaret80@hotmail.com\", \"technicalUser\": false, \"active\": false, \"roles\": []}]'"
      ]
     },
     "execution_count": 12,
     "metadata": {},
     "output_type": "execute_result"
    }
   ],
   "source": [
    "data = fake.json(data_columns=columns)\n",
    "\n",
    "data"
   ]
  }
 ],
 "metadata": {
  "kernelspec": {
   "display_name": "data-mock",
   "language": "python",
   "name": "data-mock"
  },
  "language_info": {
   "codemirror_mode": {
    "name": "ipython",
    "version": 3
   },
   "file_extension": ".py",
   "mimetype": "text/x-python",
   "name": "python",
   "nbconvert_exporter": "python",
   "pygments_lexer": "ipython3",
   "version": "3.10.4"
  },
  "orig_nbformat": 4,
  "vscode": {
   "interpreter": {
    "hash": "f3d558277e1468fbd6155e81dfccdb965f1cd2a6d9d32bde37de1e4b5da945bd"
   }
  }
 },
 "nbformat": 4,
 "nbformat_minor": 2
}
