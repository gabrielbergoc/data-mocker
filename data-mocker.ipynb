{
 "cells": [
  {
   "cell_type": "code",
   "execution_count": null,
   "metadata": {},
   "outputs": [],
   "source": [
    "import json\n",
    "from faker import Faker\n",
    "\n",
    "fake = Faker()\n",
    "num_rows = 20"
   ]
  },
  {
   "cell_type": "code",
   "execution_count": 56,
   "metadata": {},
   "outputs": [],
   "source": [
    "user_columns = {\n",
    "    \"firstName\": \"first_name\",\n",
    "    \"lastName\": \"last_name\",\n",
    "    \"technicalUser\": \"boolean\",\n",
    "    \"active\": \"boolean\",\n",
    "}\n",
    "\n",
    "user_data = fake.json(data_columns=user_columns, num_rows=num_rows)\n",
    "users = json.loads(user_data)\n",
    "\n",
    "for i, user in zip(range(1, len(users) + 1), users):\n",
    "    user['userName'] = f\"{user['firstName']}_{user['lastName']}\".lower()\n",
    "    user['email'] = f\"{user['firstName']}_{user['lastName']}@gmail.com\".lower()\n",
    "    user['id'] = i\n",
    "    user['roles'] = fake.random_elements([\"USER\", \"ADMIN\", \"SUPER_USER\"], unique=True)\n",
    "\n",
    "users\n",
    "\n",
    "with open(\"data/users.json\", mode=\"w\") as fp:\n",
    "    json.dump(users, fp, indent=4)"
   ]
  },
  {
   "cell_type": "code",
   "execution_count": 57,
   "metadata": {},
   "outputs": [],
   "source": [
    "group_columns = {\n",
    "    \"name\": \"job\",\n",
    "}\n",
    "\n",
    "group_data = fake.json(data_columns=group_columns, num_rows=num_rows)\n",
    "groups = json.loads(group_data)\n",
    "\n",
    "for i, group in zip(range(1, len(groups) + 1), groups):\n",
    "    group['id'] = i\n",
    "\n",
    "groups\n",
    "\n",
    "with open(\"data/groups.json\", mode=\"w\") as fp:\n",
    "    json.dump(groups, fp, indent=4)"
   ]
  },
  {
   "cell_type": "code",
   "execution_count": 58,
   "metadata": {},
   "outputs": [],
   "source": [
    "document_columns = {\n",
    "    \"filename\": \"words\",\n",
    "    \"attributes\": {\n",
    "        \"age\": { \"i\": \"pyint:max_age\" }\n",
    "    },\n",
    "    \"id\": \"hexify\",\n",
    "    \"optLockVersion\": \"pyint\",\n",
    "    \"binaryId\": \"hexify\",\n",
    "    \"contentType\": \"@text/plain\",\n",
    "    \"binaryExtension\": \"file_extension:file_type\",\n",
    "    \"contentMd5\": \"md5\",\n",
    "    \"contentSha256\": \"sha256\",\n",
    "}\n",
    "\n",
    "fake.set_arguments(\"max_age\", { \"max_value\": 20 })\n",
    "fake.set_arguments(\"file_type\", { \"category\": \"office\" })\n",
    "\n",
    "document_data = fake.json(data_columns=document_columns, num_rows=num_rows)\n",
    "documents = json.loads(document_data)\n",
    "\n",
    "for document in documents:\n",
    "    document['filename'] = \"_\".join(document['filename'])\n",
    "\n",
    "documents\n",
    "\n",
    "with open(\"data/documents.json\", mode=\"w\") as fp:\n",
    "    json.dump(documents, fp, indent=4)"
   ]
  },
  {
   "cell_type": "code",
   "execution_count": null,
   "metadata": {},
   "outputs": [],
   "source": [
    "docSpace_columns = {\n",
    "    \"id\": \"hexify:hex_template\",\n",
    "    \"auditProof\": \"boolean\",\n",
    "}\n",
    "\n",
    "fake.set_arguments(\"hex_template\", { \"text\": \"^^^^-^^^^\" })\n",
    "\n",
    "docSpace_data = fake.json(data_columns=docSpace_columns, num_rows=num_rows)\n",
    "docSpaces = json.loads(docSpace_data)\n",
    "\n",
    "for docSpace in docSpaces:\n",
    "    docSpace['allowedDeleteModes'] = fake.random_elements([\"AUTO\", \"CASCADE\", \"DEFAULT\"], unique=True)\n",
    "\n",
    "docSpaces\n",
    "\n",
    "with open(\"data/docSpaces.json\", mode=\"w\") as fp:\n",
    "    json.dump(docSpaces, fp, indent=4)"
   ]
  }
 ],
 "metadata": {
  "kernelspec": {
   "display_name": "data-mock",
   "language": "python",
   "name": "data-mock"
  },
  "language_info": {
   "codemirror_mode": {
    "name": "ipython",
    "version": 3
   },
   "file_extension": ".py",
   "mimetype": "text/x-python",
   "name": "python",
   "nbconvert_exporter": "python",
   "pygments_lexer": "ipython3",
   "version": "3.10.4"
  },
  "orig_nbformat": 4,
  "vscode": {
   "interpreter": {
    "hash": "f3d558277e1468fbd6155e81dfccdb965f1cd2a6d9d32bde37de1e4b5da945bd"
   }
  }
 },
 "nbformat": 4,
 "nbformat_minor": 2
}
